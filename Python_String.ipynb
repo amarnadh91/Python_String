{
 "cells": [
  {
   "cell_type": "markdown",
   "id": "3bae8487",
   "metadata": {},
   "source": [
    "# Python String\n",
    "### String is a collection of alphabets, words or other characters."
   ]
  },
  {
   "cell_type": "code",
   "execution_count": 1,
   "id": "055573d7",
   "metadata": {},
   "outputs": [],
   "source": [
    "# defining a string\n",
    "s = \"Hello_world\""
   ]
  },
  {
   "cell_type": "code",
   "execution_count": 2,
   "id": "3c545322",
   "metadata": {},
   "outputs": [
    {
     "data": {
      "text/plain": [
       "str"
      ]
     },
     "execution_count": 2,
     "metadata": {},
     "output_type": "execute_result"
    }
   ],
   "source": [
    "# Checking the type of a string\n",
    "\n",
    "type(s)"
   ]
  },
  {
   "cell_type": "code",
   "execution_count": 3,
   "id": "a928821e",
   "metadata": {},
   "outputs": [
    {
     "data": {
      "text/plain": [
       "'H'"
      ]
     },
     "execution_count": 3,
     "metadata": {},
     "output_type": "execute_result"
    }
   ],
   "source": [
    "# Getting the character from string using indexing. Generally the indexing strats from zero(0)\n",
    "s[0]"
   ]
  },
  {
   "cell_type": "code",
   "execution_count": 4,
   "id": "960ce261",
   "metadata": {},
   "outputs": [
    {
     "data": {
      "text/plain": [
       "'l'"
      ]
     },
     "execution_count": 4,
     "metadata": {},
     "output_type": "execute_result"
    }
   ],
   "source": [
    "s[3]"
   ]
  },
  {
   "cell_type": "code",
   "execution_count": 5,
   "id": "64f3dccd",
   "metadata": {},
   "outputs": [
    {
     "data": {
      "text/plain": [
       "'Hello'"
      ]
     },
     "execution_count": 5,
     "metadata": {},
     "output_type": "execute_result"
    }
   ],
   "source": [
    "# Slicing operations on string. Slicing is used to get set of charaters from string.\n",
    "s[0:5] # It extract the chracters from index 0 to 5 (except 5th index)"
   ]
  },
  {
   "cell_type": "code",
   "execution_count": 6,
   "id": "c37f9df5",
   "metadata": {},
   "outputs": [
    {
     "data": {
      "text/plain": [
       "'Hlo'"
      ]
     },
     "execution_count": 6,
     "metadata": {},
     "output_type": "execute_result"
    }
   ],
   "source": [
    "s[0:5:2] # It extract the chracters from index 0 to 5 (except 5th index) with incremental value 2"
   ]
  },
  {
   "cell_type": "code",
   "execution_count": 7,
   "id": "e82dece1",
   "metadata": {},
   "outputs": [
    {
     "data": {
      "text/plain": [
       "'Hello_world'"
      ]
     },
     "execution_count": 7,
     "metadata": {},
     "output_type": "execute_result"
    }
   ],
   "source": [
    "s[0:] # It extract the chracters from index 0 to last"
   ]
  },
  {
   "cell_type": "code",
   "execution_count": 8,
   "id": "1c6bdb00",
   "metadata": {},
   "outputs": [
    {
     "data": {
      "text/plain": [
       "'Hlowrd'"
      ]
     },
     "execution_count": 8,
     "metadata": {},
     "output_type": "execute_result"
    }
   ],
   "source": [
    "s[0::2] # It extract the chracters from index 0 to 5 (except 5th index) with incremental value 2"
   ]
  },
  {
   "cell_type": "code",
   "execution_count": 2,
   "id": "922248b8",
   "metadata": {},
   "outputs": [
    {
     "data": {
      "text/plain": [
       "'d'"
      ]
     },
     "execution_count": 2,
     "metadata": {},
     "output_type": "execute_result"
    }
   ],
   "source": [
    "# Getting the last indexed charecter\n",
    "s[-1]"
   ]
  },
  {
   "cell_type": "code",
   "execution_count": 3,
   "id": "3c5ee73d",
   "metadata": {},
   "outputs": [
    {
     "data": {
      "text/plain": [
       "'Hello_world'"
      ]
     },
     "execution_count": 3,
     "metadata": {},
     "output_type": "execute_result"
    }
   ],
   "source": [
    "#Extracting the total string using slicling operation\n",
    "s[::]"
   ]
  },
  {
   "cell_type": "code",
   "execution_count": 4,
   "id": "0006427b",
   "metadata": {},
   "outputs": [
    {
     "data": {
      "text/plain": [
       "'dlrow_olleH'"
      ]
     },
     "execution_count": 4,
     "metadata": {},
     "output_type": "execute_result"
    }
   ],
   "source": [
    "#Extracting the total string in reverse direction using slicling operation\n",
    "s[::-1]"
   ]
  },
  {
   "cell_type": "code",
   "execution_count": 5,
   "id": "502956ac",
   "metadata": {},
   "outputs": [
    {
     "data": {
      "text/plain": [
       "'Hello_world1'"
      ]
     },
     "execution_count": 5,
     "metadata": {},
     "output_type": "execute_result"
    }
   ],
   "source": [
    "# Adding the charaters to the string (here we are changing the data type of \"1\" to string by using type casting)\n",
    "s+str(1)"
   ]
  },
  {
   "cell_type": "code",
   "execution_count": 6,
   "id": "9da833dc",
   "metadata": {},
   "outputs": [
    {
     "data": {
      "text/plain": [
       "'Hello_world'"
      ]
     },
     "execution_count": 6,
     "metadata": {},
     "output_type": "execute_result"
    }
   ],
   "source": [
    "s"
   ]
  },
  {
   "cell_type": "code",
   "execution_count": 7,
   "id": "280cb22d",
   "metadata": {},
   "outputs": [
    {
     "data": {
      "text/plain": [
       "'Hello_worldHello_world'"
      ]
     },
     "execution_count": 7,
     "metadata": {},
     "output_type": "execute_result"
    }
   ],
   "source": [
    "s*2"
   ]
  },
  {
   "cell_type": "code",
   "execution_count": 8,
   "id": "79681f72",
   "metadata": {},
   "outputs": [
    {
     "data": {
      "text/plain": [
       "11"
      ]
     },
     "execution_count": 8,
     "metadata": {},
     "output_type": "execute_result"
    }
   ],
   "source": [
    "len(s)"
   ]
  },
  {
   "cell_type": "code",
   "execution_count": 9,
   "id": "0a8805f1",
   "metadata": {},
   "outputs": [
    {
     "data": {
      "text/plain": [
       "3"
      ]
     },
     "execution_count": 9,
     "metadata": {},
     "output_type": "execute_result"
    }
   ],
   "source": [
    "s.count('l')"
   ]
  },
  {
   "cell_type": "code",
   "execution_count": 11,
   "id": "63ea9b0b",
   "metadata": {},
   "outputs": [
    {
     "data": {
      "text/plain": [
       "['Hello', 'world']"
      ]
     },
     "execution_count": 11,
     "metadata": {},
     "output_type": "execute_result"
    }
   ],
   "source": [
    "# split function will Return a list of the words in the string, using sep as the delimiter string. \n",
    "s.split('_') "
   ]
  },
  {
   "cell_type": "code",
   "execution_count": 13,
   "id": "da0f4283",
   "metadata": {},
   "outputs": [
    {
     "data": {
      "text/plain": [
       "'HELLO_WORLD'"
      ]
     },
     "execution_count": 13,
     "metadata": {},
     "output_type": "execute_result"
    }
   ],
   "source": [
    "s.upper() # Changing the alphabets to upper case"
   ]
  },
  {
   "cell_type": "code",
   "execution_count": 14,
   "id": "9b4d8ecf",
   "metadata": {},
   "outputs": [
    {
     "data": {
      "text/plain": [
       "'hello_world'"
      ]
     },
     "execution_count": 14,
     "metadata": {},
     "output_type": "execute_result"
    }
   ],
   "source": [
    "s.lower() # Changing the alphabets to lower case"
   ]
  },
  {
   "cell_type": "code",
   "execution_count": 15,
   "id": "abc7d67b",
   "metadata": {},
   "outputs": [
    {
     "data": {
      "text/plain": [
       "'Hello_World'"
      ]
     },
     "execution_count": 15,
     "metadata": {},
     "output_type": "execute_result"
    }
   ],
   "source": [
    "s.title() # Set the first letter of each word to upper case"
   ]
  },
  {
   "cell_type": "code",
   "execution_count": 16,
   "id": "0a477d6f",
   "metadata": {},
   "outputs": [
    {
     "data": {
      "text/plain": [
       "'Hello_world'"
      ]
     },
     "execution_count": 16,
     "metadata": {},
     "output_type": "execute_result"
    }
   ],
   "source": [
    "s.capitalize() # Set the first letter of string to upper case"
   ]
  },
  {
   "cell_type": "code",
   "execution_count": 17,
   "id": "10e6f8ca",
   "metadata": {},
   "outputs": [],
   "source": [
    "s1 = \"HeLLo_wOrlD\""
   ]
  },
  {
   "cell_type": "code",
   "execution_count": 18,
   "id": "79796292",
   "metadata": {},
   "outputs": [
    {
     "data": {
      "text/plain": [
       "'hEllO_WoRLd'"
      ]
     },
     "execution_count": 18,
     "metadata": {},
     "output_type": "execute_result"
    }
   ],
   "source": [
    "s1.swapcase() # Set all upper cases to lower case and all lower case to upper case."
   ]
  },
  {
   "cell_type": "code",
   "execution_count": 19,
   "id": "e35779f9",
   "metadata": {},
   "outputs": [
    {
     "data": {
      "text/plain": [
       "'dlrow_olleH'"
      ]
     },
     "execution_count": 19,
     "metadata": {},
     "output_type": "execute_result"
    }
   ],
   "source": [
    "# Reversing of string can be done by join function\n",
    "\"\".join(reversed(s)) "
   ]
  },
  {
   "cell_type": "code",
   "execution_count": 27,
   "id": "b386131f",
   "metadata": {},
   "outputs": [
    {
     "data": {
      "text/plain": [
       "'Haealalaoa_awaoaralad'"
      ]
     },
     "execution_count": 27,
     "metadata": {},
     "output_type": "execute_result"
    }
   ],
   "source": [
    "\"a\".join(s) # joining \"a\" to string after each charatecter "
   ]
  },
  {
   "cell_type": "code",
   "execution_count": 21,
   "id": "6d79a66e",
   "metadata": {},
   "outputs": [],
   "source": [
    "s2 = \"   Hello world   \""
   ]
  },
  {
   "cell_type": "code",
   "execution_count": 22,
   "id": "80df4bdd",
   "metadata": {},
   "outputs": [
    {
     "data": {
      "text/plain": [
       "'Hello world'"
      ]
     },
     "execution_count": 22,
     "metadata": {},
     "output_type": "execute_result"
    }
   ],
   "source": [
    "s2.strip() # strip function remove the first and last spaces"
   ]
  },
  {
   "cell_type": "code",
   "execution_count": 25,
   "id": "beaa4659",
   "metadata": {},
   "outputs": [
    {
     "data": {
      "text/plain": [
       "'Hello world   '"
      ]
     },
     "execution_count": 25,
     "metadata": {},
     "output_type": "execute_result"
    }
   ],
   "source": [
    "s2.lstrip() # lstrip function remove the left side spaces"
   ]
  },
  {
   "cell_type": "code",
   "execution_count": 26,
   "id": "6fc1c0b8",
   "metadata": {},
   "outputs": [
    {
     "data": {
      "text/plain": [
       "'   Hello world'"
      ]
     },
     "execution_count": 26,
     "metadata": {},
     "output_type": "execute_result"
    }
   ],
   "source": [
    "s2.rstrip()  # rstrip function remove the right side spaces"
   ]
  },
  {
   "cell_type": "code",
   "execution_count": 28,
   "id": "3b12d149",
   "metadata": {},
   "outputs": [
    {
     "data": {
      "text/plain": [
       "'Hello_world'"
      ]
     },
     "execution_count": 28,
     "metadata": {},
     "output_type": "execute_result"
    }
   ],
   "source": [
    "s"
   ]
  },
  {
   "cell_type": "code",
   "execution_count": 29,
   "id": "b664f09e",
   "metadata": {},
   "outputs": [
    {
     "data": {
      "text/plain": [
       "'@@@@Hello_world@@@@@'"
      ]
     },
     "execution_count": 29,
     "metadata": {},
     "output_type": "execute_result"
    }
   ],
   "source": [
    "s.center(20,\"@\")"
   ]
  },
  {
   "cell_type": "code",
   "execution_count": 30,
   "id": "ab7cb09c",
   "metadata": {},
   "outputs": [
    {
     "data": {
      "text/plain": [
       "False"
      ]
     },
     "execution_count": 30,
     "metadata": {},
     "output_type": "execute_result"
    }
   ],
   "source": [
    "s.isupper()"
   ]
  },
  {
   "cell_type": "code",
   "execution_count": 31,
   "id": "06bc80c2",
   "metadata": {},
   "outputs": [
    {
     "data": {
      "text/plain": [
       "False"
      ]
     },
     "execution_count": 31,
     "metadata": {},
     "output_type": "execute_result"
    }
   ],
   "source": [
    "s.islower()"
   ]
  },
  {
   "cell_type": "code",
   "execution_count": 32,
   "id": "bf885efb",
   "metadata": {},
   "outputs": [],
   "source": [
    "s3=\"HELLO\""
   ]
  },
  {
   "cell_type": "code",
   "execution_count": 34,
   "id": "6faf5ecc",
   "metadata": {},
   "outputs": [
    {
     "data": {
      "text/plain": [
       "True"
      ]
     },
     "execution_count": 34,
     "metadata": {},
     "output_type": "execute_result"
    }
   ],
   "source": [
    "s3.isupper()"
   ]
  },
  {
   "cell_type": "code",
   "execution_count": 37,
   "id": "02c70d92",
   "metadata": {},
   "outputs": [],
   "source": [
    "s4 = \"Hello World\""
   ]
  },
  {
   "cell_type": "code",
   "execution_count": 39,
   "id": "df3b14c6",
   "metadata": {},
   "outputs": [
    {
     "data": {
      "text/plain": [
       "False"
      ]
     },
     "execution_count": 39,
     "metadata": {},
     "output_type": "execute_result"
    }
   ],
   "source": [
    "s4.isspace() # This will true only when the string is fully empty"
   ]
  },
  {
   "cell_type": "code",
   "execution_count": 41,
   "id": "a61dede3",
   "metadata": {},
   "outputs": [],
   "source": [
    "s5 =\"1234\""
   ]
  },
  {
   "cell_type": "code",
   "execution_count": 42,
   "id": "d872da4f",
   "metadata": {},
   "outputs": [
    {
     "data": {
      "text/plain": [
       "True"
      ]
     },
     "execution_count": 42,
     "metadata": {},
     "output_type": "execute_result"
    }
   ],
   "source": [
    "s5.isdigit()"
   ]
  },
  {
   "cell_type": "code",
   "execution_count": 43,
   "id": "2c62a375",
   "metadata": {},
   "outputs": [],
   "source": [
    "s6 = \"Hello123\""
   ]
  },
  {
   "cell_type": "code",
   "execution_count": 44,
   "id": "abfb0451",
   "metadata": {},
   "outputs": [
    {
     "data": {
      "text/plain": [
       "True"
      ]
     },
     "execution_count": 44,
     "metadata": {},
     "output_type": "execute_result"
    }
   ],
   "source": [
    "s6.isalnum()"
   ]
  },
  {
   "cell_type": "code",
   "execution_count": 45,
   "id": "be6ae4cb",
   "metadata": {},
   "outputs": [
    {
     "data": {
      "text/plain": [
       "False"
      ]
     },
     "execution_count": 45,
     "metadata": {},
     "output_type": "execute_result"
    }
   ],
   "source": [
    "s6.startswith(\"h\")"
   ]
  },
  {
   "cell_type": "code",
   "execution_count": 46,
   "id": "b6ec0ace",
   "metadata": {},
   "outputs": [
    {
     "data": {
      "text/plain": [
       "True"
      ]
     },
     "execution_count": 46,
     "metadata": {},
     "output_type": "execute_result"
    }
   ],
   "source": [
    "s6.startswith(\"H\") # Case sensitive"
   ]
  },
  {
   "cell_type": "code",
   "execution_count": 47,
   "id": "a23b4368",
   "metadata": {},
   "outputs": [
    {
     "data": {
      "text/plain": [
       "True"
      ]
     },
     "execution_count": 47,
     "metadata": {},
     "output_type": "execute_result"
    }
   ],
   "source": [
    "s6.endswith(\"3\")"
   ]
  },
  {
   "cell_type": "code",
   "execution_count": 48,
   "id": "6c9bf466",
   "metadata": {},
   "outputs": [
    {
     "data": {
      "text/plain": [
       "'Hello123'"
      ]
     },
     "execution_count": 48,
     "metadata": {},
     "output_type": "execute_result"
    }
   ],
   "source": [
    "s6"
   ]
  },
  {
   "cell_type": "code",
   "execution_count": 49,
   "id": "74c39a18",
   "metadata": {},
   "outputs": [
    {
     "data": {
      "text/plain": [
       "'Hello456'"
      ]
     },
     "execution_count": 49,
     "metadata": {},
     "output_type": "execute_result"
    }
   ],
   "source": [
    "s6.replace(\"123\",\"456\")"
   ]
  },
  {
   "cell_type": "code",
   "execution_count": null,
   "id": "411db9d2",
   "metadata": {},
   "outputs": [],
   "source": [
    "#Practice quesions on python string :\n",
    "\n",
    "s = \"this is My First Python programming class and i am learNING python string and its function\"\n",
    "1 . Try to extract data from index one to index 300 with a jump of 3 \n",
    "2. Try to reverse a string without using reverse function \n",
    "3. Try to split a string after conversion of entire string in uppercase \n",
    "4. try to convert the whole string into lower case \n",
    "5 . Try to capitalize the whole string \n",
    "6.  Replace class with tutorial \n"
   ]
  },
  {
   "cell_type": "code",
   "execution_count": 1,
   "id": "fb888648",
   "metadata": {},
   "outputs": [],
   "source": [
    "s = \"this is My First Python programming class and i am learNING python string and its function\""
   ]
  },
  {
   "cell_type": "code",
   "execution_count": 2,
   "id": "55e514d8",
   "metadata": {},
   "outputs": [
    {
     "data": {
      "text/plain": [
       "'h   r tnrrmglsnimeNGyosi dtfco'"
      ]
     },
     "execution_count": 2,
     "metadata": {},
     "output_type": "execute_result"
    }
   ],
   "source": [
    "# 1 . Try to extract data from index one to index 300 with a jump of 3 \n",
    "s[1:301:3]"
   ]
  },
  {
   "cell_type": "code",
   "execution_count": 3,
   "id": "6140d611",
   "metadata": {},
   "outputs": [
    {
     "data": {
      "text/plain": [
       "'noitcnuf sti dna gnirts nohtyp GNINrael ma i dna ssalc gnimmargorp nohtyP tsriF yM si siht'"
      ]
     },
     "execution_count": 3,
     "metadata": {},
     "output_type": "execute_result"
    }
   ],
   "source": [
    "# 2. Try to reverse a string without using reverse function\n",
    "s[::-1]"
   ]
  },
  {
   "cell_type": "code",
   "execution_count": 4,
   "id": "2eef22a0",
   "metadata": {},
   "outputs": [
    {
     "data": {
      "text/plain": [
       "['THIS',\n",
       " 'IS',\n",
       " 'MY',\n",
       " 'FIRST',\n",
       " 'PYTHON',\n",
       " 'PROGRAMMING',\n",
       " 'CLASS',\n",
       " 'AND',\n",
       " 'I',\n",
       " 'AM',\n",
       " 'LEARNING',\n",
       " 'PYTHON',\n",
       " 'STRING',\n",
       " 'AND',\n",
       " 'ITS',\n",
       " 'FUNCTION']"
      ]
     },
     "execution_count": 4,
     "metadata": {},
     "output_type": "execute_result"
    }
   ],
   "source": [
    "# 3. Try to split a string after conversion of entire string in uppercase\n",
    "s.upper().split(\" \")"
   ]
  },
  {
   "cell_type": "code",
   "execution_count": null,
   "id": "15fa56c2",
   "metadata": {},
   "outputs": [],
   "source": [
    "# 4. try to convert the whole string into lower case "
   ]
  },
  {
   "cell_type": "code",
   "execution_count": 5,
   "id": "ed2a2057",
   "metadata": {},
   "outputs": [
    {
     "data": {
      "text/plain": [
       "'this is my first python programming class and i am learning python string and its function'"
      ]
     },
     "execution_count": 5,
     "metadata": {},
     "output_type": "execute_result"
    }
   ],
   "source": [
    "s.lower()"
   ]
  },
  {
   "cell_type": "code",
   "execution_count": 6,
   "id": "cdd77af5",
   "metadata": {},
   "outputs": [
    {
     "data": {
      "text/plain": [
       "'This is my first python programming class and i am learning python string and its function'"
      ]
     },
     "execution_count": 6,
     "metadata": {},
     "output_type": "execute_result"
    }
   ],
   "source": [
    "# 5 . Try to capitalize the whole string \n",
    "s.capitalize()"
   ]
  },
  {
   "cell_type": "code",
   "execution_count": 7,
   "id": "3708c75e",
   "metadata": {},
   "outputs": [
    {
     "data": {
      "text/plain": [
       "'this is My First Python programming tutorial and i am learNING python string and its function'"
      ]
     },
     "execution_count": 7,
     "metadata": {},
     "output_type": "execute_result"
    }
   ],
   "source": [
    "# 6.  Replace \"class\" with \"tutorial\"\n",
    "s.replace(\"class\",\"tutorial\")"
   ]
  }
 ],
 "metadata": {
  "kernelspec": {
   "display_name": "Python 3 (ipykernel)",
   "language": "python",
   "name": "python3"
  },
  "language_info": {
   "codemirror_mode": {
    "name": "ipython",
    "version": 3
   },
   "file_extension": ".py",
   "mimetype": "text/x-python",
   "name": "python",
   "nbconvert_exporter": "python",
   "pygments_lexer": "ipython3",
   "version": "3.9.12"
  }
 },
 "nbformat": 4,
 "nbformat_minor": 5
}
